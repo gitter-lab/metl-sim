{
 "cells": [
  {
   "cell_type": "markdown",
   "id": "2e3f5e11-e67d-4c45-b47d-a5923cfd9692",
   "metadata": {},
   "source": [
    "# METL-Sim in Open Science Grid\n",
    "\n",
    "This notebook serves allows for the deployment of the Rosetta framework Open Science Grid to run FastRelax from the Rosetta software. This notebook supports random creation of millions of variants to run the FastRelax protocol on the open science grid. The interactive functions in this notebook do not represent the full power fo the `metl-sim` repository; if you wish to customize your simulation or variants please reference the metl-sim [github](https://github.com/gitter-lab/metl-sim) readme. \n",
    "\n",
    "**Sections**\n",
    "1. Introduction Jupyter notebooks and OSG functions (do not skip!!) \n",
    "2. Environment setup and Rosetta software download\n",
    "3. Running Rosetta FastRelax on OSG\n",
    "\n",
    "**Note**: If you have any questions, or at any point, we recommend opening a github issues [here](https://github.com/gitter-lab/metl-sim/issues), our team is happy to help.\n"
   ]
  },
  {
   "cell_type": "markdown",
   "id": "c2828a13-9b07-4a14-9b42-1d2acbf8f71d",
   "metadata": {},
   "source": [
    "### 1) Introduction to Jupyter notebooks and OSG functions \n"
   ]
  },
  {
   "cell_type": "markdown",
   "id": "fce9e21c-e28e-4f36-a5c1-ca53fec64406",
   "metadata": {},
   "source": [
    "#### Introduction to Jupyter notebooks\n",
    "\n",
    "To run the `metl-sim` framework you will run each of the cells below. You can either press shift enter, or press the play button at the top of the screen. \n",
    "\n",
    "Practice by running the cell below\n",
    "\n",
    "![Alt Text](img/jupyter.png)\n"
   ]
  },
  {
   "cell_type": "code",
   "execution_count": null,
   "id": "39e7c4c3-ed72-40be-9433-c9650ce491a1",
   "metadata": {},
   "outputs": [],
   "source": [
    "from utils import *"
   ]
  },
  {
   "cell_type": "markdown",
   "id": "6a413b6d-34c6-4ba0-98f6-206bc76249ac",
   "metadata": {},
   "source": [
    "Once the cell is run, it should have a \\[1] on the left side (shown below), indicating it ran to completion. When a cell is running it will look like this \\[*]. If a cell hasn't been run yet it will look like this \\[ ]. We recommend running the cells in chronological order as they show up in this notebook.(Besides the cells in the `Setup` portion which are only needed to run once.) However, the order in which cells is specified by the number in the brackets. So this is the first cell run, so it contains a \\[1]. \n",
    "\n",
    "![Alt Text](img/cell.png) \n",
    "\n",
    "If at any time you need to start over because of an error, we recommend pressing `Kernel` in the top panel of the screen and pressing `Restart Kernel and Clear Outputs of all Cells`\n",
    "\n",
    "![Alt Text](img/restart.png) \n",
    "\n",
    "The below scripts checks to make sure the Ipython notebook `demo.ipynb` is open in the correct directory `metl-sim/notebooks`\n"
   ]
  },
  {
   "cell_type": "code",
   "execution_count": 16,
   "id": "cef7bbc7-049a-4239-844c-06a283d4ca66",
   "metadata": {},
   "outputs": [
    {
     "name": "stdout",
     "output_type": "stream",
     "text": [
      "\u001b[92m✅ Success: You are in 'metl-sim/notebooks'.\u001b[0m\n"
     ]
    }
   ],
   "source": [
    "expected_folder1 = \"metl-sim\"\n",
    "expected_folder2 = \"notebooks\"\n",
    "\n",
    "check_last_two_folders(expected_folder1, expected_folder2)"
   ]
  },
  {
   "attachments": {},
   "cell_type": "markdown",
   "id": "0a907af9-0dfc-45ed-bafe-bdbfc06ac00f",
   "metadata": {},
   "source": [
    "#### Helloworld in Open Science Grid (OSG)\n",
    "\n",
    "In order to use the open science grid to submit jobs, you only need to use three commands (all of which will be explained in much more detail below.) \n",
    "\n",
    "The three functions are: \n",
    "\n",
    "- `submit_condor_job('job_name','job_type')` (submits a job with a unique 'job_name'; and 'job_type' with options:`'helloworld'`, `'rosetta_download'` and `'relax'`. \n",
    "- `job_status()` (looks at the status of all jobs you have run; also removes failed jobs if they are currently on Open Science Grid) \n",
    "- `remove_all_condor_jobs()` removes all running and failed jobs. (Only should run after you are done using this notebook)\n",
    "\n",
    "\n",
    "\n",
    "First lets submit a job under the 'helloworld' job_type. This will submit a three jobs under one job_name to open science grid. Each job will print to the console `Helloworld` then the job will be completed. \n",
    "\n",
    "**<span style=\"color:red\">Important</span>**: The parameter `job_name` is unique to each job and must be specified by you. You cannot submit two jobs which have the same name. \n"
   ]
  },
  {
   "cell_type": "code",
   "execution_count": null,
   "id": "0fac9f4b-20fc-4051-9041-298e638e0fdd",
   "metadata": {},
   "outputs": [],
   "source": [
    "from utils import * \n",
    "submit_condor_job(job_name='hello_world_test5',job_type='helloworld')"
   ]
  },
  {
   "cell_type": "markdown",
   "id": "e2758436-201e-4b4c-9d37-6f0399317ae7",
   "metadata": {},
   "source": [
    "To see the output of all currently running jobs, **and** remove all failed jobs, simply check the job status with `job_status()`. You can ignore the `💡 Notice:` output unless you are curious what is happening in the background when removing failed jobs. \n",
    "\n",
    "The `helloworld` job will not completed for 5 minutes. You can close this page during that time. However, if you come back you must always run `from utils import *` before running any of the three functions. "
   ]
  },
  {
   "cell_type": "code",
   "execution_count": null,
   "id": "5cd154f5-53a9-45b2-9bdb-5be4bfd4b8a7",
   "metadata": {
    "scrolled": true
   },
   "outputs": [],
   "source": [
    "from utils import *\n",
    "job_status()"
   ]
  },
  {
   "cell_type": "markdown",
   "id": "9c1d21c8-2bab-4465-9ec7-b944a6e66487",
   "metadata": {},
   "source": [
    "The final function, `remove_all_condor_jobs()` only needs to be run once you are done running jobs on Open science grid. This will remove all jobs, regardless if they are `Running⌛` or `Failed❌` if they are currently running on Open Science Grid. \n",
    "\n",
    "**<span style=\"color:red\">Important</span>**:  If you run this command after submitting the above jobs, they will effectively be removed and moved to the `Failed❌` column. "
   ]
  },
  {
   "cell_type": "code",
   "execution_count": null,
   "id": "c33267e7-c211-4d0f-97ce-3969a71b3c07",
   "metadata": {},
   "outputs": [],
   "source": [
    "from utils import * \n",
    "# Example usage (uncomment if you wish to run)\n",
    "# remove_all_condor_jobs()"
   ]
  },
  {
   "cell_type": "markdown",
   "id": "4acaf4cb-7a83-40d7-8c93-62c8fd9be819",
   "metadata": {},
   "source": [
    "### 2) Environment Setup and Rosetta Software Download "
   ]
  },
  {
   "cell_type": "markdown",
   "id": "45aaca1c-36f6-4402-a6a6-5aff150e0e14",
   "metadata": {},
   "source": [
    "#### Environment Setup \n",
    "\n",
    "This will download the binaries necessary for running the python scripts associated with this environment. Run the script below to download the environment. \n",
    "\n",
    "**Note:Run the four cells below only once!**"
   ]
  },
  {
   "cell_type": "code",
   "execution_count": null,
   "id": "8c809aa1-3cf2-412a-960d-34731a6d5005",
   "metadata": {},
   "outputs": [],
   "source": [
    "# Example usage:\n",
    "url = \"http://proxy.chtc.wisc.edu/SQUID/bcjohnson7/rosettafy_env_v0.7.11.tar.gz\"\n",
    "output_path = \"downloads/rosettafy_env_v0.7.11.tar.gz\"\n",
    "\n",
    "download_file(url, output_path,'curl')"
   ]
  },
  {
   "cell_type": "markdown",
   "id": "7b073b08-bc5b-4b2b-bdd4-a0dc0ca5d0d0",
   "metadata": {},
   "source": [
    "Now we will untar the binary file. "
   ]
  },
  {
   "cell_type": "code",
   "execution_count": null,
   "id": "811b29fe-6a6b-4008-872a-92bf460dc341",
   "metadata": {},
   "outputs": [],
   "source": [
    "file_path = \"downloads/rosettafy_env_v0.7.11.tar.gz\"\n",
    "extract_dir = \"rosetta_env\"\n",
    "\n",
    "untar_file_with_progress(file_path, extract_dir)"
   ]
  },
  {
   "cell_type": "code",
   "execution_count": null,
   "id": "5e31b89c-5e16-4b7b-80d4-1794ded52ff3",
   "metadata": {},
   "outputs": [],
   "source": [
    "# cell for downloading the conda environment! \n",
    "url = \"http://proxy.chtc.wisc.edu/SQUID/bcjohnson7/clean_pdb.tar.gz\"\n",
    "output_path = \"downloads/clean_pdb.tar.gz\"\n",
    "\n",
    "download_file(url, output_path,'curl')"
   ]
  },
  {
   "cell_type": "code",
   "execution_count": null,
   "id": "c1020d55-971d-49c2-8f9e-2378ceb8cd09",
   "metadata": {},
   "outputs": [],
   "source": [
    "# Example usage:\n",
    "file_path = \"downloads/clean_pdb.tar.gz\"\n",
    "extract_dir = \"clean_pdb\"\n",
    "\n",
    "untar_file_with_progress(file_path, extract_dir)"
   ]
  },
  {
   "cell_type": "markdown",
   "id": "eaff7200-1846-4d33-ab17-dcf3fe3240d6",
   "metadata": {},
   "source": [
    "#### Downloading Rosetta\n",
    "\n",
    "Downloading Rosetta is a non-trivial task due to the shear size of the Rosetta software (40GB as a tar file). However, the submit node on OSG only allows 50GB of space, making downloading Rosetta on the submit node very difficult (since it needs to be untarred leading to 80GB of needed space). To account for this issue, we will submit a job to OSG that has the proper disk space. This job will download the full version of Rosetta, then transfer relevant functions and data from Rosetta 3.14 (if you wish to change the version of rosetta to download look to `condor/rosetta/run.sh` and change the Rosetta `tar.b2z` file to download) which are relevant for FastRelax. Finally, it will encrypt Rosetta and break it up into multiple files under 1GB in size to make the software compliant to run on the Open Science Grid.\n",
    "\n",
    "**Note**: This code may take a few hours to run as the downloading, untarring, and encrypting of Rosetta can take some time. However, after submitting the job you are free to close this window and come back later as long as you check the rosetta job is running with the `job_status()` function. You can not contineu onto step 3 without downloading Rosetta properly. \n",
    "\n",
    "\n",
    "**<span style=\"color:red\">NOTE</span>**: By downloading Rosetta you are subject the Rosetta Licensing agreement: [link](https://github.com/RosettaCommons/rosetta/blob/main/LICENSE.md). The most important point is that the free version of Rosetta can only be used for **non-commercial** purposes. If you wish to use Rosetta for commercial purposes please consult the Licensing agreement.\n",
    "\n",
    "**Note:** Run the two cells below only once to completion!\n",
    "\n"
   ]
  },
  {
   "cell_type": "code",
   "execution_count": null,
   "id": "5e58492c-4e1d-471d-b82d-395098a56d7b",
   "metadata": {},
   "outputs": [],
   "source": [
    "from utils import * \n",
    "rosetta_job_name='rosetta_download6'\n",
    "submit_condor_job(job_name=rosetta_job_name,job_type='rosetta_download')"
   ]
  },
  {
   "cell_type": "code",
   "execution_count": null,
   "id": "c916bc8f-563a-4f61-9109-f907a8096cfd",
   "metadata": {},
   "outputs": [],
   "source": [
    "from utils import * \n",
    "job_status()"
   ]
  },
  {
   "cell_type": "markdown",
   "id": "2e3f8ad3-cbe5-4340-8420-7d9cc328b953",
   "metadata": {},
   "source": [
    "After checking job status and the `job_name` above is in the `completed` column, run the below function to post process the output from the job. "
   ]
  },
  {
   "cell_type": "code",
   "execution_count": 19,
   "id": "d1101be7-9590-4ff7-9c8f-647ef6f9a718",
   "metadata": {},
   "outputs": [
    {
     "name": "stdout",
     "output_type": "stream",
     "text": [
      "\u001b[93m🔔 Notice: Directory 'condor/rosetta_download6/output/rosetta_download' already exists and is not empty. Skipping extraction.\u001b[0m\n",
      "\u001b[32m✅ Found Rosetta File: condor/rosetta_download6/output/rosetta_download/output/squid_rosetta/rosetta_min_enc.tar.gz.aa\u001b[0m\n",
      "\u001b[32m✅ File transferred to downloads!\u001b[0m\n",
      "\u001b[32m✅ Found Rosetta File: condor/rosetta_download6/output/rosetta_download/output/squid_rosetta/rosetta_min_enc.tar.gz.ab\u001b[0m\n",
      "\u001b[32m✅ File transferred to downloads!\u001b[0m\n",
      "\u001b[32m✅ Found Rosetta File: condor/rosetta_download6/output/rosetta_download/output/squid_rosetta/rosetta_min_enc.tar.gz.ac\u001b[0m\n",
      "\u001b[32m✅ File transferred to downloads!\u001b[0m\n",
      "Combining split files for rosetta_min_enc.tar.gz\n",
      "Decrypting Rosetta\n",
      "OpenSSL 3.1.1 30 May 2023 (Library: OpenSSL 3.1.1 30 May 2023)\n",
      "\u001b[92m✅ Successfully  decoded rosetta.\u001b[0m\n"
     ]
    },
    {
     "name": "stderr",
     "output_type": "stream",
     "text": [
      "Extracting: 100%|██████████| 24858/24858 [02:38<00:00, 157.23file/s]"
     ]
    },
    {
     "name": "stdout",
     "output_type": "stream",
     "text": [
      "\u001b[92m✅ Success: File untarred to 'rosetta'.\u001b[0m\n"
     ]
    },
    {
     "name": "stderr",
     "output_type": "stream",
     "text": [
      "\n"
     ]
    }
   ],
   "source": [
    "from utils import * \n",
    "rosetta_job_name='rosetta_download6'\n",
    "post_process_rosetta_download(rosetta_job_name)"
   ]
  },
  {
   "cell_type": "markdown",
   "id": "48bab3fa-04ac-4e23-bbfb-e8efb0b354f7",
   "metadata": {},
   "source": [
    "#### Set up shell scripts\n",
    "We also need to set the permissions of all bash scripts so we can run all the following functions. "
   ]
  },
  {
   "cell_type": "code",
   "execution_count": null,
   "id": "54a11b81-88da-4203-b77a-ffc97a2633ee",
   "metadata": {},
   "outputs": [],
   "source": [
    "from utils import *\n",
    "# Set permissions for the bash_scripts directory\n",
    "set_permissions('bash_scripts', '777')"
   ]
  },
  {
   "cell_type": "markdown",
   "id": "c8ad348e-2af2-48c4-b86f-62b96db63d07",
   "metadata": {
    "jp-MarkdownHeadingCollapsed": true
   },
   "source": [
    "### 3) Running Rosetta FastRelax on OSG\n",
    "\n",
    "**Note**: If you have any questions up until this point, or at any further point, we recommend opening a github issues [here](https://github.com/gitter-lab/metl-sim/issues), our team is happy to help.\n",
    "\n",
    "First upload your pdb file to the folder `metl-sim/pdb_files/raw_pdb_files`.\n",
    "\n",
    "\n",
    "Then replace `2qmt.pdb` with your pdb file name in the cell below. Here I have specified the example structure `2qmt.pdb` which is the binding domain of Protein G or GB1. \n",
    "\n",
    "![alt text](img/pdb.png)\n"
   ]
  },
  {
   "cell_type": "code",
   "execution_count": 33,
   "id": "f1ed2ddd-2d49-4e03-8b04-da30fc6180b4",
   "metadata": {},
   "outputs": [],
   "source": [
    "pdb_file_name ='2qmt.pdb'"
   ]
  },
  {
   "attachments": {},
   "cell_type": "markdown",
   "id": "c6491f94-cfe4-40d4-9064-7c7e45d4c849",
   "metadata": {},
   "source": [
    "#### Prepare pdb for Rosetta Relax\n",
    "\n",
    "To run Rosetta, the developers recommend some preprocessing steps in order to resolve atom clashes that commonly come from structures taken from the PDB database. \n",
    "\n",
    "Run the below cell to run this preprocessing step. For higher accuracy you can increase the parameter `relax_nstruct`, however the compute time will start to increase at higher numbers of structures. If you want to run with higher `relax_nstruct`, we recommend you check out the github page to run without the code without the jup\n",
    "\n",
    "**Note**: Whatever configuration of `run_prepare_script` will be the saved structure used for the large scale Rosetta relax runs. \n",
    "\n"
   ]
  },
  {
   "cell_type": "code",
   "execution_count": null,
   "id": "2bcc5565-8568-49f2-8d1e-10ec4b552cda",
   "metadata": {},
   "outputs": [],
   "source": [
    "from utils import *\n",
    "run_prepare_script(\n",
    "        rosetta_main_dir='notebooks/rosetta/rosetta_minimal',\n",
    "        pdb_fn=f'pdb_files/raw_pdb_files/{pdb_file_name}',\n",
    "        relax_nstruct=2,\n",
    "        out_dir_base='output/prepare_outputs'\n",
    "    )"
   ]
  },
  {
   "cell_type": "markdown",
   "id": "729e90c8-941a-4d1d-9821-1b5e2cdb5f43",
   "metadata": {},
   "source": [
    "#### Generate variants for Rosetta Relax\n",
    "\n",
    "Now we will generate variants to run on OSG. Below you will specify the number of variants to generate with the variable `variants_to_generate`. We recommend the default of 100,000 variants to generate to get good results (but this can vary by protein length).  The `max_subs` and `min_subs` parameters determines the maximum and minimum allowed mutant; the default is a 5 mutant maximum, 2 mutant minimum.  \n",
    "\n",
    "**Note**: When determining how many variants to generate we expect rouhgly 25\\% of jobs to fail. So if you hope to generate 100,000 variants; we suggest you generate 100,000/0.75 or 133,000 variants. "
   ]
  },
  {
   "cell_type": "code",
   "execution_count": 38,
   "id": "d87c612f-623e-479d-b11a-a57c5734d261",
   "metadata": {},
   "outputs": [
    {
     "name": "stdout",
     "output_type": "stream",
     "text": [
      "\u001b[32m✅ A variant file with these parameters doesn't exist: \n",
      " \t variants to generate 2\n",
      "\t maximum substitutions 1 \n",
      "\t minimum substitutions 1 \n",
      "--> Generating variants now ⌛\u001b[0m\n",
      "\u001b[32m✅ Successfully generate variants!\u001b[0m\n"
     ]
    }
   ],
   "source": [
    "from utils import * \n",
    "\n",
    "variants_to_generate=2\n",
    "run_variant_script(pdb_fn=f'pdb_files/prepared_pdb_files/{pdb_file_name.split(\".\")[0]}_p.pdb',\\\n",
    "                   variants_to_generate=variants_to_generate,\n",
    "                  max_subs=1,\n",
    "                  min_subs=1)"
   ]
  },
  {
   "cell_type": "markdown",
   "id": "fb84a064-2e5f-4f2a-8c43-c3128b985c6d",
   "metadata": {},
   "source": [
    "#### Prepare Rosetta Relax job for OSG\n",
    "\n",
    "We now need to prepare a Rosetta Relax job for open science grid. "
   ]
  },
  {
   "cell_type": "code",
   "execution_count": 40,
   "id": "7461563f-37d8-4894-ba7b-9fc94d286208",
   "metadata": {
    "scrolled": true
   },
   "outputs": [
    {
     "name": "stdout",
     "output_type": "stream",
     "text": [
      "\u001b[32m✅ Job name FastRelax_test_54 is availabe, preparing rosetta job\u001b[0m\n",
      "\u001b[32m✅ Variant file exists:\n",
      " Variants to Generate : 2 \n",
      " Max Subs: 1 \n",
      " Min Subs :1\u001b[0m\n",
      "\u001b[32m✅ Successfully prepared OSG run!\u001b[0m\n"
     ]
    }
   ],
   "source": [
    "pdb_file_name ='2qmt.pdb'\n",
    "from utils import * \n",
    "job_name='FastRelax_test_54'\n",
    "\n",
    "# must be the same as the parameters used to generate variants above \n",
    "variants_to_generate=2\n",
    "max_subs=1\n",
    "min_subs=1\n",
    "\n",
    "prepare_rosetta_run(job_name,pdb_file_name,variants_to_generate,max_subs,min_subs)"
   ]
  },
  {
   "cell_type": "markdown",
   "id": "8ab99b9f-6a08-4526-b319-43b3cfd24466",
   "metadata": {},
   "source": [
    "#### Submit Rosetta Relax Job\n",
    "\n",
    "This function submits the Rosetta Relax job to the Open Science Grid. After running this, you should be able to run `job_status()` and see that your job is likely `Running`. Longer proteins with many variants (>1M) will typically take the longest to complete (>24 hours). But this a loose speculation aimed to help the user get an idea of how long each run will take, run times can and will differ substantially between proteins. Our recommendation is to start small, will 100 variants, get a feel for how long it takes to run. Then go back and start a new Rosetta relax run with the number of variants which you wish to pretrain your METL model with.  "
   ]
  },
  {
   "cell_type": "code",
   "execution_count": 41,
   "id": "e77dc3a3-1d6a-4e4e-8393-d45a7efadf40",
   "metadata": {},
   "outputs": [
    {
     "name": "stdout",
     "output_type": "stream",
     "text": [
      "\u001b[92m✅ No job named 'FastRelax_test_54' exists'. You can use this job name.\u001b[0m\n",
      "\u001b[92m✅ Setting up job type `relax`\u001b[0m\n"
     ]
    },
    {
     "name": "stderr",
     "output_type": "stream",
     "text": [
      "Extracting: 100%|██████████| 2/2 [00:00<00:00, 443.16file/s]"
     ]
    },
    {
     "name": "stdout",
     "output_type": "stream",
     "text": [
      "\u001b[92m✅ Success: File untarred to 'condor/FastRelax_test_54'.\u001b[0m\n"
     ]
    },
    {
     "name": "stderr",
     "output_type": "stream",
     "text": [
      "\n"
     ]
    },
    {
     "name": "stdout",
     "output_type": "stream",
     "text": [
      "\u001b[92m✅ Job name: 'FastRelax_test_54' submitted \u001b[92m\n"
     ]
    }
   ],
   "source": [
    "from utils import *\n",
    "submit_condor_job(job_name='FastRelax_test_54',job_type='relax')"
   ]
  },
  {
   "cell_type": "markdown",
   "id": "d1344399-0a6c-42f9-8032-d535c256f219",
   "metadata": {},
   "source": [
    "Running job status, as mentioned before, will state the jobs that are running, completed, and failed for all the jobs you have submitted. You should see your job in the running column. "
   ]
  },
  {
   "cell_type": "code",
   "execution_count": 25,
   "id": "5e0e3ac9-e655-4bab-b12a-92393a1e2f8b",
   "metadata": {},
   "outputs": [
    {
     "name": "stdout",
     "output_type": "stream",
     "text": [
      "\u001b[33m💡 Notice: No log files found for job: relax4, skipping job \u001b[0m\n",
      "\u001b[33m💡 Notice: No log files found for job: FastRelax_test_41, skipping job \u001b[0m\n",
      "\u001b[33m💡 Notice: No log files found for job: FastRelax_test_34, skipping job \u001b[0m\n",
      "\u001b[33m💡 Notice: No log files found for job: FastRelax_test_40, skipping job \u001b[0m\n",
      "\u001b[33m💡 Notice: No log files found for job: relax1, skipping job \u001b[0m\n",
      "\u001b[33m💡 Notice: No log files found for job: relax3, skipping job \u001b[0m\n",
      "\u001b[33m💡 Notice: No log files found for job: FastRelax_test_36, skipping job \u001b[0m\n",
      "\u001b[33m💡 Notice: No log files found for job: relax2, skipping job \u001b[0m\n",
      "\u001b[33m💡 Notice: No log files found for job: FastRelax_test_38, skipping job \u001b[0m\n",
      "\u001b[33m💡 Notice: No log files found for job: FastRelax_test_35, skipping job \u001b[0m\n",
      "\u001b[33m💡 Notice: No log files found for job: relax6, skipping job \u001b[0m\n",
      "\u001b[33m💡 Notice: No log files found for job: FastRelax_test_37, skipping job \u001b[0m\n",
      "\u001b[33m💡 Notice: No log files found for job: relax5, skipping job \u001b[0m\n",
      "\u001b[33m💡 Notice: Found failed jobs in log files, checking OSG if jobs exist\u001b[0m\n",
      "\u001b[33m💡 Notice: Jobs currently running on OSG, job name: FastRelax_test_50, number jobs:1\u001b[0m\n",
      "\u001b[33m💡 Notice: No failed jobs currently on OSG\u001b[0m\n",
      "\u001b[92m Status of all submitted jobs \u001b[0m\n",
      "                   Running⌛  Completed✅  Failed❌\n",
      "relax4                    0           0        0\n",
      "FastRelax_test_41         0           0        0\n",
      "FastRelax_test_34         0           0        0\n",
      "FastRelax_test_50         1           0        0\n",
      "FastRelax_test_40         0           0        0\n",
      "relax1                    0           0        0\n",
      "relax3                    0           0        0\n",
      "FastRelax_test_36         0           0        0\n",
      "rosetta_download6         0           1        0\n",
      "FastRelax_test_48         0          12        0\n",
      "FastRelax_test_46         0           0       12\n",
      "relax2                    0           0        0\n",
      "hello_world_1             0           1        2\n",
      "FastRelax_test_38         0           0        0\n",
      "FastRelax_test_45         0           0        0\n",
      "FastRelax_test_44         0           0        0\n",
      "hello_world_test5         0           3        0\n",
      "rosetta_download2         0           0        1\n",
      "FastRelax_test_35         0           0        0\n",
      "relax6                    0           0        0\n",
      "FastRelax_test_49         0           0       12\n",
      "hello_world_test1         0           3        0\n",
      "rosetta_download4         0           1        0\n",
      "FastRelax_test_37         0           0        0\n",
      "hello_world_test2         0           3        0\n",
      "FastRelax_test_42         0           0        0\n",
      "rosetta_download3         0           0        1\n",
      "hello_world_test          0           3        0\n",
      "FastRelax_test_47         0           0       12\n",
      "relax5                    0           0        0\n"
     ]
    }
   ],
   "source": [
    "job_status()"
   ]
  },
  {
   "cell_type": "markdown",
   "id": "da616008-021d-4d88-a1d2-4b9703b4c1e0",
   "metadata": {},
   "source": [
    "#### Post process Rosetta Relax job"
   ]
  },
  {
   "cell_type": "code",
   "execution_count": 3,
   "id": "1a806df2-a21f-4d73-843c-7f97d9745fa6",
   "metadata": {},
   "outputs": [
    {
     "name": "stdout",
     "output_type": "stream",
     "text": [
      "\u001b[33m💡 Notice:FastRelax_test_48 all ready post processed, loading pandas dataframe\u001b[0m\n"
     ]
    }
   ],
   "source": [
    "from utils import *\n",
    "df=run_post_process_script(job_name='FastRelax_test_48')"
   ]
  },
  {
   "cell_type": "markdown",
   "id": "69fb1ed4-b313-45bd-a54a-040142354f0d",
   "metadata": {},
   "source": [
    "Here the variable `df` corresponds to a pandas dataframe which contains the rosetta scores for each variant. Note that not all variants may have completed that you submitted. It is expected behavoir with millions of variants that not all jobs will complete successfully. \n",
    "\n",
    "Below only prints out the first 100 variants that were processed, to get all the variants remove `.head(100)`. To view all the statistics for each variant, including rosetta energy terms and run information, simply run `df` in a cell."
   ]
  },
  {
   "cell_type": "code",
   "execution_count": 4,
   "id": "88164a51-3b81-46d6-82fa-7ee29488e5e8",
   "metadata": {},
   "outputs": [
    {
     "data": {
      "text/html": [
       "<div>\n",
       "<style scoped>\n",
       "    .dataframe tbody tr th:only-of-type {\n",
       "        vertical-align: middle;\n",
       "    }\n",
       "\n",
       "    .dataframe tbody tr th {\n",
       "        vertical-align: top;\n",
       "    }\n",
       "\n",
       "    .dataframe thead th {\n",
       "        text-align: right;\n",
       "    }\n",
       "</style>\n",
       "<table border=\"1\" class=\"dataframe\">\n",
       "  <thead>\n",
       "    <tr style=\"text-align: right;\">\n",
       "      <th></th>\n",
       "      <th>variant</th>\n",
       "      <th>total_score</th>\n",
       "    </tr>\n",
       "  </thead>\n",
       "  <tbody>\n",
       "    <tr>\n",
       "      <th>0</th>\n",
       "      <td>E15T,K28W,Y45N</td>\n",
       "      <td>-160.529</td>\n",
       "    </tr>\n",
       "    <tr>\n",
       "      <th>1</th>\n",
       "      <td>T18P,Y45N</td>\n",
       "      <td>-148.881</td>\n",
       "    </tr>\n",
       "    <tr>\n",
       "      <th>2</th>\n",
       "      <td>F30A,Q32I,T51A</td>\n",
       "      <td>-165.410</td>\n",
       "    </tr>\n",
       "    <tr>\n",
       "      <th>3</th>\n",
       "      <td>Q32I,N35V</td>\n",
       "      <td>-172.314</td>\n",
       "    </tr>\n",
       "    <tr>\n",
       "      <th>4</th>\n",
       "      <td>I6G,K10M,V39K</td>\n",
       "      <td>-160.650</td>\n",
       "    </tr>\n",
       "    <tr>\n",
       "      <th>...</th>\n",
       "      <td>...</td>\n",
       "      <td>...</td>\n",
       "    </tr>\n",
       "    <tr>\n",
       "      <th>95</th>\n",
       "      <td>T16R,A20S,D46P</td>\n",
       "      <td>-156.998</td>\n",
       "    </tr>\n",
       "    <tr>\n",
       "      <th>96</th>\n",
       "      <td>T16R,T53N</td>\n",
       "      <td>-166.944</td>\n",
       "    </tr>\n",
       "    <tr>\n",
       "      <th>97</th>\n",
       "      <td>L12D,T18M,D40I,G41M</td>\n",
       "      <td>-160.459</td>\n",
       "    </tr>\n",
       "    <tr>\n",
       "      <th>98</th>\n",
       "      <td>L7V,T18M</td>\n",
       "      <td>-179.328</td>\n",
       "    </tr>\n",
       "    <tr>\n",
       "      <th>99</th>\n",
       "      <td>L5E,T11Y,A48G,T51H</td>\n",
       "      <td>-164.825</td>\n",
       "    </tr>\n",
       "  </tbody>\n",
       "</table>\n",
       "<p>100 rows × 2 columns</p>\n",
       "</div>"
      ],
      "text/plain": [
       "                variant  total_score\n",
       "0        E15T,K28W,Y45N     -160.529\n",
       "1             T18P,Y45N     -148.881\n",
       "2        F30A,Q32I,T51A     -165.410\n",
       "3             Q32I,N35V     -172.314\n",
       "4         I6G,K10M,V39K     -160.650\n",
       "..                  ...          ...\n",
       "95       T16R,A20S,D46P     -156.998\n",
       "96            T16R,T53N     -166.944\n",
       "97  L12D,T18M,D40I,G41M     -160.459\n",
       "98             L7V,T18M     -179.328\n",
       "99   L5E,T11Y,A48G,T51H     -164.825\n",
       "\n",
       "[100 rows x 2 columns]"
      ]
     },
     "execution_count": 4,
     "metadata": {},
     "output_type": "execute_result"
    }
   ],
   "source": [
    "df[['variant','total_score']].head(100)"
   ]
  },
  {
   "cell_type": "markdown",
   "id": "36e92f08-b955-4992-80ae-f8e91f6a142e",
   "metadata": {},
   "source": [
    "To download the csv file to your local machine, download this file:\n",
    "\n",
    "`metl-sim/notebooks/condor/<job_name>/energies_df.csv`\n",
    "\n",
    "by right clicking in the file explorer on the left panel. (shown in the image below for the job name `FastRelax_test_48`. \n",
    "\n",
    "![alt text](img/download.png)"
   ]
  },
  {
   "cell_type": "markdown",
   "id": "92e80f4a-0e56-42b4-b4e5-03eb4cf0ff18",
   "metadata": {},
   "source": [
    "### Issues? \n",
    "\n",
    "If you have issues please post a github issue . \n",
    "\n",
    "\n",
    "### Share your results! \n",
    "\n",
    "Make your Rosetta results open access by sharing them **here**. \n",
    "\n"
   ]
  }
 ],
 "metadata": {
  "kernelspec": {
   "display_name": "Python [conda env:base] *",
   "language": "python",
   "name": "conda-base-py"
  },
  "language_info": {
   "codemirror_mode": {
    "name": "ipython",
    "version": 3
   },
   "file_extension": ".py",
   "mimetype": "text/x-python",
   "name": "python",
   "nbconvert_exporter": "python",
   "pygments_lexer": "ipython3",
   "version": "3.11.9"
  }
 },
 "nbformat": 4,
 "nbformat_minor": 5
}
