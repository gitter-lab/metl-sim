{
 "cells": [
  {
   "cell_type": "markdown",
   "id": "2e3f5e11-e67d-4c45-b47d-a5923cfd9692",
   "metadata": {},
   "source": [
    "# METL-sim \n",
    "\n",
    "This notebook serves allows for the deployment of the Rosetta framework Open Science Grid to run FastRelax on the Rosetta software. This notebook only supports random creation of variants for the simple FastRelax protocol. If you want to have a more complex protocol you will have to follow the steps for setting up `metl-sim` as specified on the [github](https://github.com/gitter-lab/metl-sim) page. \n",
    "\n",
    "**Sections**\n",
    "1. Setup (environment setup and Rosetta software download)\n",
    "2. Generate variants to simulate.\n",
    "3. Upload PDB\n",
    "4. Submit computational jobs to compute Rosetta scores\n",
    "5. Extract and postprocess output. "
   ]
  },
  {
   "cell_type": "markdown",
   "id": "c2828a13-9b07-4a14-9b42-1d2acbf8f71d",
   "metadata": {},
   "source": [
    "### 1) Setup\n",
    "To run the `metl-sim` framework you will run each of the cells below. You can either press shift enter, or press the play button at the top of the screen. \n",
    "\n",
    "Practice by running the cell below\n",
    "\n",
    "![Alt Text](img/jupyter.png)"
   ]
  },
  {
   "cell_type": "code",
   "execution_count": null,
   "id": "39e7c4c3-ed72-40be-9433-c9650ce491a1",
   "metadata": {},
   "outputs": [],
   "source": [
    "from utils import *"
   ]
  },
  {
   "cell_type": "markdown",
   "id": "6a413b6d-34c6-4ba0-98f6-206bc76249ac",
   "metadata": {},
   "source": [
    "Once the cell is run, it should have a \\[1] on the left side (shown below), indicating it ran to completion. When a cell is running it will look like this \\[*]. If a cell hasn't been run yet it will look like this \\[ ]. We recommend running the cells in chronological order as they show up in this notebook. However, the order in which cells is specified by the number in the brackets. So this is the first cell run, so it contains a \\[1]. \n",
    "\n",
    "![Alt Text](img/cell.png) \n",
    "\n",
    "If at any time you need to start over because of an error, we recommend pressing `Kernel` in the top panel of the screen and pressing `Restart Kernel and Clear Outputs of all Cells`\n",
    "\n",
    "![Alt Text](img/restart.png) \n",
    "\n",
    "The below scripts checks to make sure the Ipython notebook `demo.ipynb` is open in the correct directory `metl-sim/notebooks`\n"
   ]
  },
  {
   "cell_type": "code",
   "execution_count": null,
   "id": "cef7bbc7-049a-4239-844c-06a283d4ca66",
   "metadata": {},
   "outputs": [],
   "source": [
    "\n",
    "expected_folder1 = \"metl-sim\"\n",
    "expected_folder2 = \"notebooks\"\n",
    "\n",
    "check_last_two_folders(expected_folder1, expected_folder2)"
   ]
  },
  {
   "cell_type": "markdown",
   "id": "4acaf4cb-7a83-40d7-8c93-62c8fd9be819",
   "metadata": {},
   "source": [
    "#### 1a) Setup Conda Environment \n",
    "\n",
    "This will download the binaries necessary for running the python scripts associated with this environment. Run the script below to download the environment. \n",
    "\n",
    "**__Note:THIS ONLY NEEDS TO BE RUN ONCE__**"
   ]
  },
  {
   "cell_type": "code",
   "execution_count": null,
   "id": "8c809aa1-3cf2-412a-960d-34731a6d5005",
   "metadata": {},
   "outputs": [],
   "source": [
    "# Example usage:\n",
    "url = \"http://proxy.chtc.wisc.edu/SQUID/bcjohnson7/rosettafy_env_v0.7.11.tar.gz\"\n",
    "output_path = \"downloads/rosettafy_env_v0.7.11.tar.gz\"\n",
    "\n",
    "download_file(url, output_path)"
   ]
  },
  {
   "cell_type": "markdown",
   "id": "7b073b08-bc5b-4b2b-bdd4-a0dc0ca5d0d0",
   "metadata": {},
   "source": [
    "Now we will untar the binary file. "
   ]
  },
  {
   "cell_type": "code",
   "execution_count": null,
   "id": "cd3d4c11-9cc1-42bd-bfcb-52a4fe8cb2e0",
   "metadata": {},
   "outputs": [],
   "source": [
    "# Example usage:\n",
    "file_path = \"downloads/rosettafy_env_v0.7.11.tar.gz\"\n",
    "extract_dir = \"rosetta_env\"\n",
    "\n",
    "untar_file_with_progress(file_path, extract_dir)"
   ]
  },
  {
   "cell_type": "markdown",
   "id": "86ff3ae9-184a-4b46-b793-875a264aea98",
   "metadata": {},
   "source": [
    "### Setup 1b - Rosetta Software\n",
    "\n",
    "We will need to download and untar the the most recent Rosetta version.\n",
    "\n",
    "To do this you will need to go to the [Rosetta Commons] download page and download under the commercial license. (https://downloads.rosettacommons.org/software/academic/)\n",
    "\n",
    "Then click the download Rosetta and current version number. \n",
    "\n",
    "\n",
    "![Alt text](img/rosetta_homepage.png)\n",
    "\n",
    "\n",
    "On the next page right click on the Linux binary link and click `Copy Link Address` \n",
    "\n",
    "\n",
    "![Alt Text](img/download_homepage.png)\n",
    "\n",
    "\n",
    "Paste the link below in the following cell. \n",
    "\n",
    "\n",
    "**Note**: Running the code below if you have not already downloaded Rosetta should take approximately 10 minutes.  "
   ]
  },
  {
   "cell_type": "markdown",
   "id": "45e5ceba-feee-4a93-a3ee-3d84bab71723",
   "metadata": {},
   "source": [
    "#### Helloworld in Open Science Grid (OSG)\n",
    "\n",
    "In order to use the open science grid to submit jobs, you only need to use three commands (all of which will be explained in much more detail below.) \n",
    "\n",
    "The three functions are: \n",
    "\n",
    "- `submit_condor_job('job_name','job_type')` (submits a job with a unique 'job_name'; and chooses 'job_type' from :'helloworld' and 'relax'. \n",
    "- `job_status()` (looks at the status of all jobs you have run; also removes failed jobs if they are currently on Open Science Grid) \n",
    "- `remove_all_condor_jobs()` (only needed to run after you are done using this notebook)\n",
    "\n",
    "\n",
    "\n",
    "First lets submit a job under the 'helloworld' job_type. This will submit a three jobs under one job_name to open science grid. Each job will print to the console `Helloworld` then the job will be completed. \n",
    "\n",
    "**<span style=\"color:red\">Important</span>**: The parameter `job_name` is unique to each job and must be specified by you. You cannot submit two jobs which have the same name. "
   ]
  },
  {
   "cell_type": "code",
   "execution_count": 1,
   "id": "1556d698-34ae-4da4-b121-e97e20b3b11f",
   "metadata": {},
   "outputs": [
    {
     "name": "stdout",
     "output_type": "stream",
     "text": [
      "\u001b[91m❌ A job named 'hello_world_test' already exists. Please specify a new job name.\u001b[0m\n"
     ]
    }
   ],
   "source": [
    "from utils import * \n",
    "submit_condor_job(job_name='hello_world_test',job_type='helloworld')"
   ]
  },
  {
   "cell_type": "markdown",
   "id": "e2758436-201e-4b4c-9d37-6f0399317ae7",
   "metadata": {},
   "source": [
    "To see the output of all currently running jobs, **and** remove all failed jobs, simply check the job status with `job_status()`. You can ignore the `💡 Notice:` output unless you are curious what is happening in the background when removing failed jobs. \n",
    "\n",
    "The `helloworld` job will not completed for 5 minutes. You can close this page during that time. However, if you come back you must always run `from utils import *` before running any of the three functions. "
   ]
  },
  {
   "cell_type": "code",
   "execution_count": 2,
   "id": "5cd154f5-53a9-45b2-9bdb-5be4bfd4b8a7",
   "metadata": {},
   "outputs": [
    {
     "name": "stdout",
     "output_type": "stream",
     "text": [
      "\u001b[33m💡 Notice: Found failed jobs in log files, checking OSG if jobs exist\u001b[0m\n",
      "\u001b[33m💡 Notice: No failed jobs currently on OSG\u001b[0m\n",
      "\u001b[92m Status of all submitted jobs \u001b[0m\n",
      "                  Running⌛  Completed✅  Failed❌\n",
      "hello_world_1            0           1        2\n",
      "hello_world_test         0           3        0\n"
     ]
    }
   ],
   "source": [
    "from utils import *\n",
    "job_status()"
   ]
  },
  {
   "cell_type": "markdown",
   "id": "9c1d21c8-2bab-4465-9ec7-b944a6e66487",
   "metadata": {},
   "source": [
    "The final function, `remove_all_condor_jobs()` only needs to be run once you are done running jobs on Open science grid. This will remove all jobs, regardless if they are `Running⌛` or `Failed❌` if they are currently running on Open Science Grid. \n",
    "\n",
    "**<span style=\"color:red\">Important</span>**:  If you run this command after submitting the above jobs, they will effectively be removed and moved to the `Failed❌` column. "
   ]
  },
  {
   "cell_type": "code",
   "execution_count": null,
   "id": "c33267e7-c211-4d0f-97ce-3969a71b3c07",
   "metadata": {},
   "outputs": [],
   "source": [
    "from utils import * \n",
    "\n",
    "# Example usage\n",
    "remove_all_condor_jobs()"
   ]
  },
  {
   "cell_type": "markdown",
   "id": "c8ad348e-2af2-48c4-b86f-62b96db63d07",
   "metadata": {},
   "source": [
    "### Running Rosetta Relax on OSG\n",
    "\n",
    "**Note**: If you have any questions up until this point, or at any further point, we recommend opening a github issues [here](https://github.com/gitter-lab/metl-sim/issues), our team is happy to help.\n",
    "\n",
    "First upload your pdb file to the folder `metl-sim/pdb_files/raw_pdb_files`.\n",
    "\n",
    "\n",
    "Then write your pdb file name in the cell below. Here I have specified the example structure `2qmt.pdb` which is the binding domain of Protein G or GB1. \n",
    "\n",
    "![alt text](img/pdb.png)\n"
   ]
  },
  {
   "cell_type": "code",
   "execution_count": 4,
   "id": "f1ed2ddd-2d49-4e03-8b04-da30fc6180b4",
   "metadata": {},
   "outputs": [],
   "source": [
    "pdb_file_name ='2qmt.pdb'"
   ]
  },
  {
   "cell_type": "markdown",
   "id": "54079515-6e18-4828-bb3a-25c9d31740e5",
   "metadata": {},
   "source": []
  },
  {
   "cell_type": "code",
   "execution_count": null,
   "id": "6bf3c67a-ed1c-4c9e-bb37-0606ed66c0f2",
   "metadata": {},
   "outputs": [],
   "source": [
    "## need to have a catch all condor_rm function\n",
    "## to remove anything that my error cases don't catch \n",
    "\n",
    "\n",
    "## what is left? \n",
    "\n",
    "\n",
    "\n",
    "#1. rosetta (this just uses rosetta minimal. but requires a tar download command, and a \n",
    "#                    untar command. then a call to rosetta minimal. \n",
    "#                   I can just leave where the files will be store constant actually so that is easy\n",
    "###                 haha! wait until this afternoon. \n",
    "\n",
    "\n",
    "\n",
    "#2. prepare (this uses clean_pdb but requires the codebase to run) \n",
    "\n",
    "\n",
    "# do this first!!! \n",
    "#3. generate variants (simplest to implement)\n",
    "#4. prepare a job. (simple) \n",
    "#4. submit a job. (find the file which the same name, and then you are done. \n",
    "#5. post process a job. (simple) \n",
    "\n",
    "\n",
    "## 7. place all the files into osdf as opposed to on my local machine\n",
    "#  I'm nervous about this, so lets get help with this... \n",
    "\n",
    "# just untar the code directory , and place the pdb file and variant list inside\n",
    "# then retar it up.\n",
    "# its excessive and can be optimized, but its the easiest solution non the less... \n"
   ]
  },
  {
   "cell_type": "markdown",
   "id": "92e80f4a-0e56-42b4-b4e5-03eb4cf0ff18",
   "metadata": {},
   "source": [
    "### Issues? \n",
    "\n",
    "If you have issues please post a github issue . \n",
    "\n",
    "\n",
    "### Share your results! \n",
    "\n"
   ]
  },
  {
   "cell_type": "code",
   "execution_count": null,
   "id": "45005519-4527-4ef0-b016-a7ac4e0c328d",
   "metadata": {},
   "outputs": [],
   "source": [
    "# paste Rosetta link url here: \n",
    "Rosetta_Link_URL =\"https://downloads.rosettacommons.org/downloads/academic/3.14/rosetta_bin_linux_3.14_bundle.tar.bz2\"\n",
    "\n",
    "run_name = 'Rosetta_Download\"\n",
    "\n",
    "\n",
    "## then if they want to run this job again I say you already have a job of the \n",
    "### same name already running, either remove that job, or wait until it finishes\n",
    "## submit another job... \n",
    "\n",
    "# make_rosetta_run\n",
    "# submit the rosetta run with my version of rosetta specified. \n",
    "\n",
    "# check in on the run in question. \n",
    "\n",
    "\n",
    "# shell script that downloads rosetta \n",
    "# then untar's it \n",
    "# activates a conda environment \n",
    "# then reduces it using the rosetta minimal script \n",
    "# then places those files in an output directory and transfers them back to \n",
    "# this location... \n",
    "\n",
    "#### so how are you going to do the submission of condor scripts. \n",
    "## what do you need? \n",
    "\n",
    "## all the code, tar balled up... that is easy ... \n",
    "## the conda environment \n",
    "## \n",
    "\n",
    "\n",
    "## then I need some functions to check condor queue. probably have the\n",
    "# user specify this run so that they know what they are running. \n",
    "\n",
    "\n",
    "# output_path = \"downloads/rosetta_bin_linux_3.14_bundle.tar.bz2\"\n",
    "\n",
    "# download_file(Rosetta_Link_URL, output_path)"
   ]
  },
  {
   "cell_type": "markdown",
   "id": "7d92dbb5-9890-4ca7-a8d9-103415206cba",
   "metadata": {},
   "source": [
    "Now we will untar the file. **Note**, this will take up around 50GB of space. The base allowed amount given by Open Science Grid is 50GB. You may need to request more space if using future versions of Rosetta.  \n",
    "\n",
    "Untarring this file will take approximately 30 minutes. \n",
    "\n",
    "**Do not close the computer during this period!**"
   ]
  },
  {
   "cell_type": "code",
   "execution_count": null,
   "id": "5b31975d-4178-4c90-8dc4-0c353010b2bc",
   "metadata": {},
   "outputs": [],
   "source": [
    "!condor_submit condor/rosetta/\n",
    "# have 1 script that just does condor submit\n",
    "# have 1 script check for completion (output of condor_q basically but in a pleasing \n",
    "# format, and it looks to see if the downloaded files exist. "
   ]
  },
  {
   "cell_type": "code",
   "execution_count": null,
   "id": "7b5ef7a7-b7a6-4a6d-bf38-51f0a2dddb02",
   "metadata": {},
   "outputs": [],
   "source": []
  },
  {
   "cell_type": "code",
   "execution_count": null,
   "id": "ea22694c-5703-47a4-8467-da0d38ee47db",
   "metadata": {},
   "outputs": [],
   "source": [
    "## after I get that working\n",
    "\n",
    "## then I want to basically want to generate variants to \n",
    "## simulate in sam's environment of interest but how do I do that not from in the top \n",
    "## directory, okay not being in the top directory was fucking stupid. \n",
    "# i should change that. \n",
    "\n",
    "### run scripts of interest as shell scripts. \n",
    "## then have them upload pdb and verify that it is uploaded. \n",
    "\n"
   ]
  },
  {
   "cell_type": "code",
   "execution_count": null,
   "id": "63894944-7cff-4085-9cd9-9c0584a7f322",
   "metadata": {},
   "outputs": [],
   "source": [
    "# 1. environment stuff with packing metl-sim\n",
    "# 2. instead of using github need a different system to tar up the files. \n",
    "# 3. figure out the rosetta problem either just ask for more space \n",
    "#     I'm honestly not sure, but whatever, just do whatever is easiest. \n",
    "#     - just download it yourself and minimalize  \n",
    "            # check if the prepared version \n",
    "            # make sure rosetta exists , don't the curl and untar again \n",
    "            # check if the conda check if the environment to see if you can activate \n",
    "            # the environment... \n",
    "            # tony has a script for activating the conda environment. \n",
    "#     - download through conda  \n",
    "            # \n",
    "#     - group file system \n",
    "#     - redistribute rosetta on a public server and deal with the legal headach of that. \n",
    "\n",
    "\n",
    "# metl-sim github issues --- tell them how to get help ...\n",
    "\n",
    "# I'm really starting to like just download yourself and minimalize... \n",
    "# 4. UC \n",
    "\n",
    "\n",
    "\n",
    "# I think it will be better just to do an scp of the\n",
    "#  finished environments to this directory... \n",
    "\n",
    "# plan 0 is checking to see if you should submit \n",
    "# plan A needs to be release... \n",
    "# bank that into the system because we know expect a certain failure rate\n",
    "# all singles and doubles, not the the best simulation workflow. \n",
    "# send drafts for jon to look at... \n",
    "\n",
    "# whether the instructions make sense and show him the notebook. first round feedback next \n",
    "# week. \n",
    "\n",
    "# then your basically done, add in some cosmetic stuff that I don't \n",
    "# even think is that big of a deal, but then your home free. \n",
    "\n",
    "# 1. should look to see if the conda binaries are already their if they are then your good , if not then download the files again. \n",
    "# 2. then download rosetta making sure to download linux \n",
    "      #  etc.  \n",
    "# 3. friendly suggestion to share simulations , those are valuable , here is how we \n",
    "#     considering uploading (zenodo) and open a git issue if you ever do that. \n",
    "#     not requirement; you made something useful... at least for us... maybe for other people\n",
    "#     files you should upload and here is how you should do that.  \n",
    "#     cell and then it goes to bryce's OSG storage. "
   ]
  },
  {
   "cell_type": "code",
   "execution_count": null,
   "id": "29109261-1f00-4fe1-a38a-64bdacf9383f",
   "metadata": {},
   "outputs": [],
   "source": [
    "('http://proxy.chtc.wisc.edu/SQUID/bcjohnson7/rosetta_min_enc_v2.tar.gz.aa',\n",
    " 'http://proxy.chtc.wisc.edu/SQUID/bcjohnson7/rosetta_min_enc_v2.tar.gz.ab',\n",
    " 'http://proxy.chtc.wisc.edu/SQUID/bcjohnson7/rosetta_min_enc_v2.tar.gz.ac',\n",
    "  'http://proxy.chtc.wisc.edu/SQUID/bcjohnson7/rosettafy_env_v0.7.11.tar.gz')"
   ]
  }
 ],
 "metadata": {
  "kernelspec": {
   "display_name": "Python [conda env:base] *",
   "language": "python",
   "name": "conda-base-py"
  },
  "language_info": {
   "codemirror_mode": {
    "name": "ipython",
    "version": 3
   },
   "file_extension": ".py",
   "mimetype": "text/x-python",
   "name": "python",
   "nbconvert_exporter": "python",
   "pygments_lexer": "ipython3",
   "version": "3.11.9"
  }
 },
 "nbformat": 4,
 "nbformat_minor": 5
}
