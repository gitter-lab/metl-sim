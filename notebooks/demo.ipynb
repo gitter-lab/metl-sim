{
 "cells": [
  {
   "cell_type": "markdown",
   "id": "2e3f5e11-e67d-4c45-b47d-a5923cfd9692",
   "metadata": {},
   "source": [
    "# METL-Sim in Open Science Grid\n",
    "\n",
    "This notebook serves allows for the deployment of the Rosetta framework Open Science Grid to run FastRelax from the Rosetta software. This notebook supports random creation of millions of variants to run the FastRelax protocol on the open science grid. The interactive functions in this notebook do not represent the full power fo the `metl-sim` repository; if you wish to customize your simulation or variants please reference the metl-sim [github](https://github.com/gitter-lab/metl-sim) readme. \n",
    "\n",
    "**Sections**\n",
    "1. Introduction Jupyter notebooks and OSG functions (do not skip!!) \n",
    "2. Environment setup and Rosetta software download\n",
    "3. Running Rosetta FastRelax on OSG\n",
    "4. Extract and postprocess output.\n",
    "\n",
    "**Note**: If you have any questions, or at any point, we recommend opening a github issues [here](https://github.com/gitter-lab/metl-sim/issues), our team is happy to help.\n"
   ]
  },
  {
   "cell_type": "markdown",
   "id": "c2828a13-9b07-4a14-9b42-1d2acbf8f71d",
   "metadata": {},
   "source": [
    "### 1) Introduction to Jupyter notebooks and OSG functions \n"
   ]
  },
  {
   "cell_type": "markdown",
   "id": "fce9e21c-e28e-4f36-a5c1-ca53fec64406",
   "metadata": {
    "jp-MarkdownHeadingCollapsed": true
   },
   "source": [
    "#### Introduction to Jupyter notebooks\n",
    "\n",
    "To run the `metl-sim` framework you will run each of the cells below. You can either press shift enter, or press the play button at the top of the screen. \n",
    "\n",
    "Practice by running the cell below\n",
    "\n",
    "![Alt Text](img/jupyter.png)\n"
   ]
  },
  {
   "cell_type": "code",
   "execution_count": null,
   "id": "39e7c4c3-ed72-40be-9433-c9650ce491a1",
   "metadata": {},
   "outputs": [],
   "source": [
    "from utils import *"
   ]
  },
  {
   "cell_type": "markdown",
   "id": "6a413b6d-34c6-4ba0-98f6-206bc76249ac",
   "metadata": {},
   "source": [
    "Once the cell is run, it should have a \\[1] on the left side (shown below), indicating it ran to completion. When a cell is running it will look like this \\[*]. If a cell hasn't been run yet it will look like this \\[ ]. We recommend running the cells in chronological order as they show up in this notebook.(Besides the cells in the `Setup` portion which are only needed to run once.) However, the order in which cells is specified by the number in the brackets. So this is the first cell run, so it contains a \\[1]. \n",
    "\n",
    "![Alt Text](img/cell.png) \n",
    "\n",
    "If at any time you need to start over because of an error, we recommend pressing `Kernel` in the top panel of the screen and pressing `Restart Kernel and Clear Outputs of all Cells`\n",
    "\n",
    "![Alt Text](img/restart.png) \n",
    "\n",
    "The below scripts checks to make sure the Ipython notebook `demo.ipynb` is open in the correct directory `metl-sim/notebooks`\n"
   ]
  },
  {
   "cell_type": "code",
   "execution_count": null,
   "id": "cef7bbc7-049a-4239-844c-06a283d4ca66",
   "metadata": {},
   "outputs": [],
   "source": [
    "\n",
    "expected_folder1 = \"metl-sim\"\n",
    "expected_folder2 = \"notebooks\"\n",
    "\n",
    "check_last_two_folders(expected_folder1, expected_folder2)"
   ]
  },
  {
   "attachments": {},
   "cell_type": "markdown",
   "id": "0a907af9-0dfc-45ed-bafe-bdbfc06ac00f",
   "metadata": {
    "jp-MarkdownHeadingCollapsed": true
   },
   "source": [
    "#### Helloworld in Open Science Grid (OSG)\n",
    "\n",
    "In order to use the open science grid to submit jobs, you only need to use three commands (all of which will be explained in much more detail below.) \n",
    "\n",
    "The three functions are: \n",
    "\n",
    "- `submit_condor_job('job_name','job_type')` (submits a job with a unique 'job_name'; and 'job_type' with options:`'helloworld'`, `'rosetta_download'` and `'relax'`. \n",
    "- `job_status()` (looks at the status of all jobs you have run; also removes failed jobs if they are currently on Open Science Grid) \n",
    "- `remove_all_condor_jobs()` removes all running and failed jobs. (Only should run after you are done using this notebook)\n",
    "\n",
    "\n",
    "\n",
    "First lets submit a job under the 'helloworld' job_type. This will submit a three jobs under one job_name to open science grid. Each job will print to the console `Helloworld` then the job will be completed. \n",
    "\n",
    "**<span style=\"color:red\">Important</span>**: The parameter `job_name` is unique to each job and must be specified by you. You cannot submit two jobs which have the same name. \n"
   ]
  },
  {
   "cell_type": "code",
   "execution_count": null,
   "id": "0fac9f4b-20fc-4051-9041-298e638e0fdd",
   "metadata": {},
   "outputs": [],
   "source": [
    "from utils import * \n",
    "submit_condor_job(job_name='hello_world_test5',job_type='helloworld')"
   ]
  },
  {
   "cell_type": "markdown",
   "id": "e2758436-201e-4b4c-9d37-6f0399317ae7",
   "metadata": {},
   "source": [
    "To see the output of all currently running jobs, **and** remove all failed jobs, simply check the job status with `job_status()`. You can ignore the `💡 Notice:` output unless you are curious what is happening in the background when removing failed jobs. \n",
    "\n",
    "The `helloworld` job will not completed for 5 minutes. You can close this page during that time. However, if you come back you must always run `from utils import *` before running any of the three functions. "
   ]
  },
  {
   "cell_type": "code",
   "execution_count": null,
   "id": "5cd154f5-53a9-45b2-9bdb-5be4bfd4b8a7",
   "metadata": {
    "scrolled": true
   },
   "outputs": [],
   "source": [
    "from utils import *\n",
    "job_status()"
   ]
  },
  {
   "cell_type": "markdown",
   "id": "9c1d21c8-2bab-4465-9ec7-b944a6e66487",
   "metadata": {},
   "source": [
    "The final function, `remove_all_condor_jobs()` only needs to be run once you are done running jobs on Open science grid. This will remove all jobs, regardless if they are `Running⌛` or `Failed❌` if they are currently running on Open Science Grid. \n",
    "\n",
    "**<span style=\"color:red\">Important</span>**:  If you run this command after submitting the above jobs, they will effectively be removed and moved to the `Failed❌` column. "
   ]
  },
  {
   "cell_type": "code",
   "execution_count": null,
   "id": "c33267e7-c211-4d0f-97ce-3969a71b3c07",
   "metadata": {},
   "outputs": [],
   "source": [
    "from utils import * \n",
    "# Example usage (uncomment if you wish to run)\n",
    "# remove_all_condor_jobs()"
   ]
  },
  {
   "cell_type": "markdown",
   "id": "4acaf4cb-7a83-40d7-8c93-62c8fd9be819",
   "metadata": {},
   "source": [
    "### 2) Environment Setup and Rosetta Software Download "
   ]
  },
  {
   "cell_type": "markdown",
   "id": "45aaca1c-36f6-4402-a6a6-5aff150e0e14",
   "metadata": {
    "jp-MarkdownHeadingCollapsed": true
   },
   "source": [
    "#### Environment Setup \n",
    "\n",
    "This will download the binaries necessary for running the python scripts associated with this environment. Run the script below to download the environment. \n",
    "\n",
    "**Note:Run the four cells below only once!**"
   ]
  },
  {
   "cell_type": "code",
   "execution_count": null,
   "id": "8c809aa1-3cf2-412a-960d-34731a6d5005",
   "metadata": {},
   "outputs": [],
   "source": [
    "# Example usage:\n",
    "url = \"http://proxy.chtc.wisc.edu/SQUID/bcjohnson7/rosettafy_env_v0.7.11.tar.gz\"\n",
    "output_path = \"downloads/rosettafy_env_v0.7.11.tar.gz\"\n",
    "\n",
    "# NOTE you need to retar this environment and make it correct. \n",
    "# also you need to replace the osdf_python_env_file \n",
    "\n",
    "download_file(url, output_path,'curl')"
   ]
  },
  {
   "cell_type": "markdown",
   "id": "7b073b08-bc5b-4b2b-bdd4-a0dc0ca5d0d0",
   "metadata": {},
   "source": [
    "Now we will untar the binary file. "
   ]
  },
  {
   "cell_type": "code",
   "execution_count": null,
   "id": "811b29fe-6a6b-4008-872a-92bf460dc341",
   "metadata": {},
   "outputs": [],
   "source": [
    "file_path = \"downloads/rosettafy_env_v0.7.11.tar.gz\"\n",
    "extract_dir = \"rosetta_env\"\n",
    "\n",
    "untar_file_with_progress(file_path, extract_dir)"
   ]
  },
  {
   "cell_type": "code",
   "execution_count": null,
   "id": "5e31b89c-5e16-4b7b-80d4-1794ded52ff3",
   "metadata": {},
   "outputs": [],
   "source": [
    "# cell for downloading the conda environment! \n",
    "url = \"http://proxy.chtc.wisc.edu/SQUID/bcjohnson7/clean_pdb.tar.gz\"\n",
    "output_path = \"downloads/clean_pdb.tar.gz\"\n",
    "\n",
    "download_file(url, output_path,'curl')"
   ]
  },
  {
   "cell_type": "code",
   "execution_count": null,
   "id": "c1020d55-971d-49c2-8f9e-2378ceb8cd09",
   "metadata": {},
   "outputs": [],
   "source": [
    "# Example usage:\n",
    "file_path = \"downloads/clean_pdb.tar.gz\"\n",
    "extract_dir = \"clean_pdb\"\n",
    "\n",
    "untar_file_with_progress(file_path, extract_dir)"
   ]
  },
  {
   "cell_type": "markdown",
   "id": "eaff7200-1846-4d33-ab17-dcf3fe3240d6",
   "metadata": {},
   "source": [
    "#### Downloading Rosetta\n",
    "\n",
    "Downloading Rosetta is a non-trivial task due to the shear size of the Rosetta software (40GB as a tar file). However, the submit node on OSG only allows 50GB of space, making downloading Rosetta on the submit node very difficult (since it needs to be untarred leading to 80GB of needed space). To account for this issue, we will submit a job to OSG that has the proper disk space. This job will download the full version of Rosetta, then transfer relevant functions and data from Rosetta 3.14 (if you wish to change the version of rosetta to download look to `condor/rosetta/run.sh` and change the Rosetta `tar.b2z` file to download) which are relevant for FastRelax. Finally, it will encrypt Rosetta and break it up into multiple files under 1GB in size to make the software compliant to run on the Open Science Grid.\n",
    "\n",
    "**Note**: This code may take a few hours to run as the downloading, untarring, and encrypting of Rosetta can take some time. However, after submitting the job you are free to close this window and come back later as long as you check the rosetta job is running with the `job_status()` function. You can not contineu onto step 3 without downloading Rosetta properly. \n",
    "\n",
    "\n",
    "**<span style=\"color:red\">NOTE</span>**: By downloading Rosetta you are subject the Rosetta Licensing agreement: [link](https://github.com/RosettaCommons/rosetta/blob/main/LICENSE.md). The most important point is that the free version of Rosetta can only be used for **non-commercial** purposes. If you wish to use Rosetta for commercial purposes please consult the Licensing agreement.\n",
    "\n",
    "**Note:** Run the two cells below only once to completion!\n",
    "\n"
   ]
  },
  {
   "cell_type": "code",
   "execution_count": null,
   "id": "5e58492c-4e1d-471d-b82d-395098a56d7b",
   "metadata": {},
   "outputs": [],
   "source": [
    "from utils import * \n",
    "rosetta_job_name='rosetta_download6'\n",
    "submit_condor_job(job_name=rosetta_job_name,job_type='rosetta_download')"
   ]
  },
  {
   "cell_type": "code",
   "execution_count": null,
   "id": "c916bc8f-563a-4f61-9109-f907a8096cfd",
   "metadata": {},
   "outputs": [],
   "source": [
    "from utils import * \n",
    "job_status()"
   ]
  },
  {
   "cell_type": "markdown",
   "id": "2e3f8ad3-cbe5-4340-8420-7d9cc328b953",
   "metadata": {},
   "source": [
    "After checking job status and the `job_name` above is in the `completed` column, run the below function to post process the output from the job. "
   ]
  },
  {
   "cell_type": "code",
   "execution_count": null,
   "id": "d1101be7-9590-4ff7-9c8f-647ef6f9a718",
   "metadata": {},
   "outputs": [],
   "source": [
    "from utils import * \n",
    "rosetta_job_name='rosetta_download4'\n",
    "post_process_rosetta_download(rosetta_job_name)"
   ]
  },
  {
   "cell_type": "markdown",
   "id": "48bab3fa-04ac-4e23-bbfb-e8efb0b354f7",
   "metadata": {},
   "source": [
    "#### Set up shell scripts\n",
    "We also need to set the permissions of all bash scripts so we can run all the following functions. "
   ]
  },
  {
   "cell_type": "code",
   "execution_count": null,
   "id": "54a11b81-88da-4203-b77a-ffc97a2633ee",
   "metadata": {},
   "outputs": [],
   "source": [
    "from utils import *\n",
    "# Set permissions for the bash_scripts directory\n",
    "set_permissions('bash_scripts', '777')"
   ]
  },
  {
   "cell_type": "markdown",
   "id": "c8ad348e-2af2-48c4-b86f-62b96db63d07",
   "metadata": {},
   "source": [
    "### 3) Running Rosetta FastRelax on OSG\n",
    "\n",
    "**Note**: If you have any questions up until this point, or at any further point, we recommend opening a github issues [here](https://github.com/gitter-lab/metl-sim/issues), our team is happy to help.\n",
    "\n",
    "First upload your pdb file to the folder `metl-sim/pdb_files/raw_pdb_files`.\n",
    "\n",
    "\n",
    "Then replace `2qmt.pdb` with your pdb file name in the cell below. Here I have specified the example structure `2qmt.pdb` which is the binding domain of Protein G or GB1. \n",
    "\n",
    "![alt text](img/pdb.png)\n"
   ]
  },
  {
   "cell_type": "code",
   "execution_count": 1,
   "id": "f1ed2ddd-2d49-4e03-8b04-da30fc6180b4",
   "metadata": {},
   "outputs": [],
   "source": [
    "pdb_file_name ='2qmt.pdb'"
   ]
  },
  {
   "attachments": {},
   "cell_type": "markdown",
   "id": "c6491f94-cfe4-40d4-9064-7c7e45d4c849",
   "metadata": {},
   "source": [
    "#### Prepare pdb for Rosetta Relax\n",
    "\n",
    "To run Rosetta, the developers recommend some preprocessing steps in order to resolve atom clashes that commonly come from structures taken from the PDB database. \n",
    "\n",
    "Run the below cell to run this preprocessing step. For higher accuracy you can increase the parameter `relax_nstruct`, however the compute time will start to increase at higher numbers of structures. If you want to run with higher `relax_nstruct`, we recommend you check out the github page to run without the code without the jup\n",
    "\n",
    "**Note**: Whatever configuration of `run_prepare_script` will be the saved structure used for the large scale Rosetta relax runs. \n",
    "\n"
   ]
  },
  {
   "cell_type": "code",
   "execution_count": null,
   "id": "2bcc5565-8568-49f2-8d1e-10ec4b552cda",
   "metadata": {},
   "outputs": [],
   "source": [
    "from utils import *\n",
    "run_prepare_script(\n",
    "        rosetta_main_dir='notebooks/rosetta/rosetta_minimal',\n",
    "        pdb_fn=f'pdb_files/raw_pdb_files/{pdb_file_name}',\n",
    "        relax_nstruct=2,\n",
    "        out_dir_base='output/prepare_outputs'\n",
    "    )"
   ]
  },
  {
   "cell_type": "markdown",
   "id": "729e90c8-941a-4d1d-9821-1b5e2cdb5f43",
   "metadata": {},
   "source": [
    "#### Generate variants for Rosetta Relax\n",
    "\n",
    "Now we will generate variants to run on OSG. Below you will specify the number of variants to generate with the variable `variants_to_generate`. We recommend the default of 100,000 variants to generate to get good results (but this can vary by protein length).  The `max_subs` and `min_subs` parameters determines the maximum and minimum allowed mutant; the default is a 5 mutant maximum, 2 mutant minimum.  \n",
    "\n",
    "**Note**: When determining how many variants to generate we expect rouhgly 25\\% of jobs to fail. So if you hope to generate 100,000 variants; we suggest you generate 100,000/0.75 or 133,000 variants. "
   ]
  },
  {
   "cell_type": "code",
   "execution_count": null,
   "id": "d87c612f-623e-479d-b11a-a57c5734d261",
   "metadata": {},
   "outputs": [],
   "source": [
    "from utils import * \n",
    "\n",
    "variants_to_generate=5000\n",
    "\n",
    "run_variant_script(pdb_fn=f'pdb_files/prepared_pdb_files/{pdb_file_name.split(\".\")[0]}_p.pdb',\\\n",
    "                   variants_to_generate=variants_to_generate,\n",
    "                  max_subs=5,\n",
    "                  min_subs=2)"
   ]
  },
  {
   "cell_type": "markdown",
   "id": "fb84a064-2e5f-4f2a-8c43-c3128b985c6d",
   "metadata": {},
   "source": [
    "#### Prepare Rosetta Relax job for OSG\n",
    "\n",
    "We now need to prepare a Rosetta Relax job for open science grid. "
   ]
  },
  {
   "cell_type": "code",
   "execution_count": 5,
   "id": "7461563f-37d8-4894-ba7b-9fc94d286208",
   "metadata": {
    "scrolled": true
   },
   "outputs": [
    {
     "name": "stdout",
     "output_type": "stream",
     "text": [
      "\u001b[32m✅ Job name FastRelax_test_32 is availabe, preparing rosetta job\u001b[0m\n",
      "\u001b[32m✅ Variant file exists:\n",
      " Variants to Generate : 5000 \n",
      " Max Subs: 5 \n",
      " Min Subs :2\u001b[0m\n",
      "Standard Output:\n",
      " \n",
      "Requirement already satisfied: tqdm in ./rosetta_env/lib/python3.9/site-packages (4.67.0)\n",
      "Added .gitignore to output/htcondor_runs/condor_energize_2024-11-18_15-37-36_FastRelax_test_32/code.tar.gz under root metl-sim-source_local\n",
      "Added code to output/htcondor_runs/condor_energize_2024-11-18_15-37-36_FastRelax_test_32/code.tar.gz under root metl-sim-source_local\n",
      "Added environment to output/htcondor_runs/condor_energize_2024-11-18_15-37-36_FastRelax_test_32/code.tar.gz under root metl-sim-source_local\n",
      "Added .ipynb_checkpoints to output/htcondor_runs/condor_energize_2024-11-18_15-37-36_FastRelax_test_32/code.tar.gz under root metl-sim-source_local\n",
      "Added energize_args to output/htcondor_runs/condor_energize_2024-11-18_15-37-36_FastRelax_test_32/code.tar.gz under root metl-sim-source_local\n",
      "Added rosetta_env to output/htcondor_runs/condor_energize_2024-11-18_15-37-36_FastRelax_test_32/code.tar.gz under root metl-sim-source_local\n",
      "Added docking_args to output/htcondor_runs/condor_energize_2024-11-18_15-37-36_FastRelax_test_32/code.tar.gz under root metl-sim-source_local\n",
      "Added variant_database to output/htcondor_runs/condor_energize_2024-11-18_15-37-36_FastRelax_test_32/code.tar.gz under root metl-sim-source_local\n",
      "Added htcondor to output/htcondor_runs/condor_energize_2024-11-18_15-37-36_FastRelax_test_32/code.tar.gz under root metl-sim-source_local\n",
      "Added variant_lists to output/htcondor_runs/condor_energize_2024-11-18_15-37-36_FastRelax_test_32/code.tar.gz under root metl-sim-source_local\n",
      "Added .git to output/htcondor_runs/condor_energize_2024-11-18_15-37-36_FastRelax_test_32/code.tar.gz under root metl-sim-source_local\n",
      "Added templates to output/htcondor_runs/condor_energize_2024-11-18_15-37-36_FastRelax_test_32/code.tar.gz under root metl-sim-source_local\n",
      "Added LICENSE to output/htcondor_runs/condor_energize_2024-11-18_15-37-36_FastRelax_test_32/code.tar.gz under root metl-sim-source_local\n",
      "Added README.md to output/htcondor_runs/condor_energize_2024-11-18_15-37-36_FastRelax_test_32/code.tar.gz under root metl-sim-source_local\n",
      "Added pdb_files to output/htcondor_runs/condor_energize_2024-11-18_15-37-36_FastRelax_test_32/code.tar.gz under root metl-sim-source_local\n",
      "Added setup to output/htcondor_runs/condor_energize_2024-11-18_15-37-36_FastRelax_test_32/code.tar.gz under root metl-sim-source_local\n",
      "Tar file 'output/htcondor_runs/condor_energize_2024-11-18_15-37-36_FastRelax_test_32/code.tar.gz' created successfully with root 'metl-sim-source_local', excluding ['notebooks', 'output'].\n",
      "average sequence length: 56.0\n",
      "total expected time: 288964.2999999833\n",
      "num chunks: 12\n",
      "min RT: 24027.539999999964\n",
      "max RT: 24085.159999999963\n",
      "\n",
      "Standard Error:\n",
      " \n",
      "  0%|          | 0/5015 [00:00<?, ?it/s]\n",
      "100%|██████████| 5015/5015 [00:00<00:00, 2285854.66it/s]\n",
      "\n",
      "\u001b[32m✅ Successfully prepared OSG run!\u001b[0m\n"
     ]
    }
   ],
   "source": [
    "from utils import * \n",
    "job_name='FastRelax_test_32'\n",
    "\n",
    "# must be the same as the parameters used to generate variants above \n",
    "variants_to_generate=5000\n",
    "max_subs=5\n",
    "min_subs=2\n",
    "\n",
    "prepare_rosetta_run(job_name,pdb_file_name,variants_to_generate,max_subs,min_subs)"
   ]
  },
  {
   "cell_type": "markdown",
   "id": "8ab99b9f-6a08-4526-b319-43b3cfd24466",
   "metadata": {},
   "source": [
    "#### Submit Rosetta Relax Job\n"
   ]
  },
  {
   "cell_type": "code",
   "execution_count": null,
   "id": "e77dc3a3-1d6a-4e4e-8393-d45a7efadf40",
   "metadata": {},
   "outputs": [],
   "source": [
    "# copy over the contents and then then sumbit the job. \n",
    "# export the parameters that are local to the job (will need a bash environment for this.) \n",
    "# not very hard this is the easiest function \n",
    "\n",
    "submit_condor_job(job_name='relax1',job_type='relax')"
   ]
  },
  {
   "cell_type": "markdown",
   "id": "da616008-021d-4d88-a1d2-4b9703b4c1e0",
   "metadata": {},
   "source": [
    "#### Post process Rosetta Relax job"
   ]
  },
  {
   "cell_type": "code",
   "execution_count": null,
   "id": "1a806df2-a21f-4d73-843c-7f97d9745fa6",
   "metadata": {},
   "outputs": [],
   "source": [
    "## post process the job in the usual way similar to the \n",
    "## previous functions \n",
    "run_post_process_script(job_name='relax1',\n",
    "                    pdb_fn=f'pdb_files/prepared_pdb_files/{pdb_file_name.split(\".\")[0]}_p.pdb',\\\n",
    "                   variants_to_generate=variants_to_generate,\n",
    "                  max_subs=5,\n",
    "                  min_subs=2)"
   ]
  },
  {
   "cell_type": "markdown",
   "id": "92e80f4a-0e56-42b4-b4e5-03eb4cf0ff18",
   "metadata": {},
   "source": [
    "### Issues? \n",
    "\n",
    "If you have issues please post a github issue . \n",
    "\n",
    "\n",
    "### Share your results! \n",
    "\n",
    "Make your Rosetta results open access by sharing them **here**. \n",
    "\n"
   ]
  },
  {
   "cell_type": "markdown",
   "id": "7a736ae3-7767-45f6-9dae-cf0fadbcebe1",
   "metadata": {
    "jp-MarkdownHeadingCollapsed": true
   },
   "source": [
    "### Notes"
   ]
  },
  {
   "cell_type": "code",
   "execution_count": null,
   "id": "6bf3c67a-ed1c-4c9e-bb37-0606ed66c0f2",
   "metadata": {},
   "outputs": [],
   "source": [
    "## need to have a catch all condor_rm function\n",
    "## to remove anything that my error cases don't catch \n",
    "\n",
    "\n",
    "## what is left? \n",
    "\n",
    "\n",
    "\n",
    "# do this first!!! \n",
    "#3. generate variants (simplest to implement)\n",
    "#4. prepare a job. (simple)  \n",
    "        # transfer both the osdf files, along with the \n",
    "        # along with the variant file and \n",
    "#4. submit a job. (find the file which the same name, and then you are done. \n",
    "#5. post process a job. (simple) \n",
    "\n",
    "\n",
    "## 7. place all the files into osdf as opposed to on my local machine\n",
    "#  I'm nervous about this, so lets get help with this... \n",
    "\n",
    "# just untar the code directory , and place the pdb file and variant list inside\n",
    "# then retar it up.\n",
    "# its excessive and can be optimized, but its the easiest solution non the less... \n"
   ]
  },
  {
   "cell_type": "code",
   "execution_count": null,
   "id": "45005519-4527-4ef0-b016-a7ac4e0c328d",
   "metadata": {},
   "outputs": [],
   "source": [
    "\n",
    "\n",
    "## then if they want to run this job again I say you already have a job of the \n",
    "### same name already running, either remove that job, or wait until it finishes\n",
    "## submit another job... \n",
    "\n",
    "# make_rosetta_run\n",
    "# submit the rosetta run with my version of rosetta specified. \n",
    "\n",
    "# check in on the run in question. \n",
    "\n",
    "\n",
    "# shell script that downloads rosetta \n",
    "# then untar's it \n",
    "# activates a conda environment \n",
    "# then reduces it using the rosetta minimal script \n",
    "# then places those files in an output directory and transfers them back to \n",
    "# this location... \n",
    "\n",
    "#### so how are you going to do the submission of condor scripts. \n",
    "## what do you need? \n",
    "\n",
    "## all the code, tar balled up... that is easy ... \n",
    "## the conda environment \n",
    "## \n",
    "\n",
    "\n",
    "## then I need some functions to check condor queue. probably have the\n",
    "# user specify this run so that they know what they are running. \n",
    "\n",
    "\n",
    "# output_path = \"downloads/rosetta_bin_linux_3.14_bundle.tar.bz2\"\n",
    "\n",
    "# download_file(Rosetta_Link_URL, output_path)"
   ]
  },
  {
   "cell_type": "markdown",
   "id": "86ff3ae9-184a-4b46-b793-875a264aea98",
   "metadata": {},
   "source": [
    "#### Setup 1b - Rosetta Software\n",
    "\n",
    "We will need to download and untar the the most recent Rosetta version.\n",
    "\n",
    "To do this you will need to go to the [Rosetta Commons] download page and download under the commercial license. (https://downloads.rosettacommons.org/software/academic/)\n",
    "\n",
    "Then click the download Rosetta and current version number. \n",
    "\n",
    "\n",
    "![Alt text](img/rosetta_homepage.png)\n",
    "\n",
    "\n",
    "On the next page right click on the Linux binary link and click `Copy Link Address` \n",
    "\n",
    "\n",
    "![Alt Text](img/download_homepage.png)\n",
    "\n",
    "\n",
    "Paste the link below in the following cell. \n",
    "\n",
    "\n",
    "**Note**: Running the code below if you have not already downloaded Rosetta should take approximately 10 minutes.  "
   ]
  },
  {
   "cell_type": "markdown",
   "id": "7d92dbb5-9890-4ca7-a8d9-103415206cba",
   "metadata": {},
   "source": [
    "Now we will untar the file. **Note**, this will take up around 50GB of space. The base allowed amount given by Open Science Grid is 50GB. You may need to request more space if using future versions of Rosetta.  \n",
    "\n",
    "Untarring this file will take approximately 30 minutes. \n",
    "\n",
    "**Do not close the computer during this period!**"
   ]
  },
  {
   "cell_type": "code",
   "execution_count": null,
   "id": "5b31975d-4178-4c90-8dc4-0c353010b2bc",
   "metadata": {},
   "outputs": [],
   "source": [
    "!condor_submit condor/rosetta/\n",
    "# have 1 script that just does condor submit\n",
    "# have 1 script check for completion (output of condor_q basically but in a pleasing \n",
    "# format, and it looks to see if the downloaded files exist. "
   ]
  },
  {
   "cell_type": "code",
   "execution_count": null,
   "id": "7b5ef7a7-b7a6-4a6d-bf38-51f0a2dddb02",
   "metadata": {},
   "outputs": [],
   "source": []
  },
  {
   "cell_type": "code",
   "execution_count": null,
   "id": "ea22694c-5703-47a4-8467-da0d38ee47db",
   "metadata": {},
   "outputs": [],
   "source": [
    "## after I get that working\n",
    "\n",
    "## then I want to basically want to generate variants to \n",
    "## simulate in sam's environment of interest but how do I do that not from in the top \n",
    "## directory, okay not being in the top directory was fucking stupid. \n",
    "# i should change that. \n",
    "\n",
    "### run scripts of interest as shell scripts. \n",
    "## then have them upload pdb and verify that it is uploaded. \n",
    "\n"
   ]
  },
  {
   "cell_type": "code",
   "execution_count": null,
   "id": "63894944-7cff-4085-9cd9-9c0584a7f322",
   "metadata": {},
   "outputs": [],
   "source": [
    "# 1. environment stuff with packing metl-sim\n",
    "# 2. instead of using github need a different system to tar up the files. \n",
    "# 3. figure out the rosetta problem either just ask for more space \n",
    "#     I'm honestly not sure, but whatever, just do whatever is easiest. \n",
    "#     - just download it yourself and minimalize  \n",
    "            # check if the prepared version \n",
    "            # make sure rosetta exists , don't the curl and untar again \n",
    "            # check if the conda check if the environment to see if you can activate \n",
    "            # the environment... \n",
    "            # tony has a script for activating the conda environment. \n",
    "#     - download through conda  \n",
    "            # \n",
    "#     - group file system \n",
    "#     - redistribute rosetta on a public server and deal with the legal headach of that. \n",
    "\n",
    "\n",
    "# metl-sim github issues --- tell them how to get help ...\n",
    "\n",
    "# I'm really starting to like just download yourself and minimalize... \n",
    "# 4. UC \n",
    "\n",
    "\n",
    "\n",
    "# I think it will be better just to do an scp of the\n",
    "#  finished environments to this directory... \n",
    "\n",
    "# plan 0 is checking to see if you should submit \n",
    "# plan A needs to be release... \n",
    "# bank that into the system because we know expect a certain failure rate\n",
    "# all singles and doubles, not the the best simulation workflow. \n",
    "# send drafts for jon to look at... \n",
    "\n",
    "# whether the instructions make sense and show him the notebook. first round feedback next \n",
    "# week. \n",
    "\n",
    "# then your basically done, add in some cosmetic stuff that I don't \n",
    "# even think is that big of a deal, but then your home free. \n",
    "\n",
    "# 1. should look to see if the conda binaries are already their if they are then your good , if not then download the files again. \n",
    "# 2. then download rosetta making sure to download linux \n",
    "      #  etc.  \n",
    "# 3. friendly suggestion to share simulations , those are valuable , here is how we \n",
    "#     considering uploading (zenodo) and open a git issue if you ever do that. \n",
    "#     not requirement; you made something useful... at least for us... maybe for other people\n",
    "#     files you should upload and here is how you should do that.  \n",
    "#     cell and then it goes to bryce's OSG storage. "
   ]
  },
  {
   "cell_type": "code",
   "execution_count": null,
   "id": "29109261-1f00-4fe1-a38a-64bdacf9383f",
   "metadata": {},
   "outputs": [],
   "source": [
    "('http://proxy.chtc.wisc.edu/SQUID/bcjohnson7/rosetta_min_enc_v2.tar.gz.aa',\n",
    " 'http://proxy.chtc.wisc.edu/SQUID/bcjohnson7/rosetta_min_enc_v2.tar.gz.ab',\n",
    " 'http://proxy.chtc.wisc.edu/SQUID/bcjohnson7/rosetta_min_enc_v2.tar.gz.ac',\n",
    "  'http://proxy.chtc.wisc.edu/SQUID/bcjohnson7/rosettafy_env_v0.7.11.tar.gz')"
   ]
  }
 ],
 "metadata": {
  "kernelspec": {
   "display_name": "Python [conda env:base] *",
   "language": "python",
   "name": "conda-base-py"
  },
  "language_info": {
   "codemirror_mode": {
    "name": "ipython",
    "version": 3
   },
   "file_extension": ".py",
   "mimetype": "text/x-python",
   "name": "python",
   "nbconvert_exporter": "python",
   "pygments_lexer": "ipython3",
   "version": "3.11.9"
  }
 },
 "nbformat": 4,
 "nbformat_minor": 5
}
